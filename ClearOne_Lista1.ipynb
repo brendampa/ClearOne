{
  "nbformat": 4,
  "nbformat_minor": 0,
  "metadata": {
    "colab": {
      "provenance": [],
      "authorship_tag": "ABX9TyNW1Q2hRaoMIbRKl4SL11O1",
      "include_colab_link": true
    },
    "kernelspec": {
      "name": "python3",
      "display_name": "Python 3"
    },
    "language_info": {
      "name": "python"
    }
  },
  "cells": [
    {
      "cell_type": "markdown",
      "metadata": {
        "id": "view-in-github",
        "colab_type": "text"
      },
      "source": [
        "<a href=\"https://colab.research.google.com/github/brendampa/ClearOne/blob/main/ClearOne_Lista1.ipynb\" target=\"_parent\"><img src=\"https://colab.research.google.com/assets/colab-badge.svg\" alt=\"Open In Colab\"/></a>"
      ]
    },
    {
      "cell_type": "markdown",
      "source": [
        "LISTA 1 - CLEAR ONE"
      ],
      "metadata": {
        "id": "vhkNoe3gU84y"
      }
    },
    {
      "cell_type": "markdown",
      "source": [
        "1)\tFaça um programa que escreva o seu nome completo em python"
      ],
      "metadata": {
        "id": "Fv8Dt4LRVEK3"
      }
    },
    {
      "cell_type": "code",
      "execution_count": null,
      "metadata": {
        "colab": {
          "base_uri": "https://localhost:8080/"
        },
        "id": "p0TkREAEU736",
        "outputId": "ca4f58ca-f2fc-49ae-fee3-e6849cc18df7"
      },
      "outputs": [
        {
          "output_type": "stream",
          "name": "stdout",
          "text": [
            "Insira o seu nome completo: Brenda Mendes\n",
            "O seu nome completo é: Brenda Mendes\n"
          ]
        }
      ],
      "source": [
        "nome = input('Insira o seu nome completo: ')\n",
        "print(f'O seu nome completo é: {nome}')"
      ]
    },
    {
      "cell_type": "markdown",
      "source": [
        "2)\tQual é o tipo de dado (int ou float) do resultado de cada uma das operações matemáticas abaixo?\n",
        "\n",
        "a.\t8 ÷ 4 + 2 × 3;\n",
        "\n",
        "b.\t15 - 4 × 2 + 10;\n",
        "\n",
        "c.\t(10 - 3) × (5 + 2);\n",
        "\n",
        "d.\t100 ÷ (5 + 5);\n",
        "\n",
        "e.\t23 + 4;\n",
        "\n",
        "f.\t7 + 3 × (10 ÷ 2);\n",
        "\n",
        "g.\t(8 + 2) × 3 - 5;\n",
        "\n",
        "h.\t50 ÷ 5 + √16;\n",
        "\n",
        "i.\t5 + √25 × 2 - 3;\n",
        "\n",
        "j.\t20 - 4 × (√9 + 1);"
      ],
      "metadata": {
        "id": "roQX7X9IVgIJ"
      }
    },
    {
      "cell_type": "code",
      "source": [
        "import math\n",
        "print(f'o tipo de dado é: {type(8 / 4 + 2 * 3)}')\n",
        "print(f'o tipo de dado é: {type(15 - 4 * 2 + 10)}')\n",
        "print(f'o tipo de dado é: {type((10 - 3) * (5 + 2))}')\n",
        "print(f'o tipo de dado é: {type(100 / (5 + 5))}')\n",
        "print(f'o tipo de dado é: {type(2**3 + 4)}')\n",
        "print(f'o tipo de dado é: {type(7 + 3 * (10 / 2))}')\n",
        "print(f'o tipo de dado é: {type((8 + 2) * 3 - 5)}')\n",
        "print(f'o tipo de dado é: {type(50 / 5 + math.sqrt(16))}')\n",
        "print(f'o tipo de dado é: {type(5 + math.sqrt(25) * 2 - 3)}')\n",
        "print(f'o tipo de dado é: {type(20 - 4 * (math.sqrt(9) + 1))}')"
      ],
      "metadata": {
        "colab": {
          "base_uri": "https://localhost:8080/"
        },
        "id": "s2RtxKkqVRM6",
        "outputId": "492d70fe-9f9b-4d6b-e9d1-77035dfc0319"
      },
      "execution_count": null,
      "outputs": [
        {
          "output_type": "stream",
          "name": "stdout",
          "text": [
            "o tipo de dado é: <class 'float'>\n",
            "o tipo de dado é: <class 'int'>\n",
            "o tipo de dado é: <class 'int'>\n",
            "o tipo de dado é: <class 'float'>\n",
            "o tipo de dado é: <class 'int'>\n",
            "o tipo de dado é: <class 'float'>\n",
            "o tipo de dado é: <class 'int'>\n",
            "o tipo de dado é: <class 'float'>\n",
            "o tipo de dado é: <class 'float'>\n",
            "o tipo de dado é: <class 'float'>\n"
          ]
        }
      ]
    },
    {
      "cell_type": "markdown",
      "source": [
        "3)\tQual é o resultado das expressões do exercício 2 quando executadas no Python?\n",
        "Faça na mão primeiro, e confira o resultado no código depois.\n"
      ],
      "metadata": {
        "id": "_GjHuvueX8Bo"
      }
    },
    {
      "cell_type": "code",
      "source": [
        "import math\n",
        "print(f'O resultado da expressão A é: {(8 / 4 + 2 * 3)}')\n",
        "print(f'O resultado da expressão B é: {(15 - 4 * 2 + 10)}')\n",
        "print(f'O resultado da expressão C é: {((10 - 3) * (5 + 2))}')\n",
        "print(f'O resultado da expressão D é: {(100 / (5 + 5))}')\n",
        "print(f'O resultado da expressão E é: {(2**3 + 4)}')\n",
        "print(f'O resultado da expressão F é: {(7 + 3 * (10 / 2))}')\n",
        "print(f'O resultado da expressão G é: {((8 + 2) * 3 - 5)}')\n",
        "print(f'O resultado da expressão H é: {(50 / 5 + math.sqrt(16))}')\n",
        "print(f'O resultado da expressão I é: {(5 + math.sqrt(25) * 2 - 3)}')\n",
        "print(f'O resultado da expressão J é: {(20 - 4 * (math.sqrt(9) + 1))}')"
      ],
      "metadata": {
        "colab": {
          "base_uri": "https://localhost:8080/"
        },
        "id": "Fv7TpLJ6WT4b",
        "outputId": "ab073967-9f33-4115-d96f-c07275cc6096"
      },
      "execution_count": null,
      "outputs": [
        {
          "output_type": "stream",
          "name": "stdout",
          "text": [
            "O resultado da expressão A é: 8.0\n",
            "O resultado da expressão B é: 17\n",
            "O resultado da expressão C é: 49\n",
            "O resultado da expressão D é: 10.0\n",
            "O resultado da expressão E é: 12\n",
            "O resultado da expressão F é: 22.0\n",
            "O resultado da expressão G é: 25\n",
            "O resultado da expressão H é: 14.0\n",
            "O resultado da expressão I é: 12.0\n",
            "O resultado da expressão J é: 4.0\n"
          ]
        }
      ]
    },
    {
      "cell_type": "markdown",
      "source": [
        "4)\tCrie três variáveis para armazenar as seguintes informações: seu nome, sua idade e seu hobby favorito.\n",
        "Use f-strings para criar uma mensagem que inclua as três variáveis e imprima a mensagem no console.\n"
      ],
      "metadata": {
        "id": "Yjs9LyoUX93_"
      }
    },
    {
      "cell_type": "code",
      "source": [
        "nome = input('Insira o seu nome: ')\n",
        "idade = input('Insira a sua idade: ')\n",
        "hobby = input('Insira o seu hobby favorito: ')\n",
        "\n",
        "print(f'Seu nome é {nome}, sua idade é {idade} e seu hobby favorito é {hobby}.')"
      ],
      "metadata": {
        "colab": {
          "base_uri": "https://localhost:8080/"
        },
        "id": "pdaIRGgmX-MQ",
        "outputId": "a1af1708-f65b-4e53-bc9c-f3abbc4b3861"
      },
      "execution_count": null,
      "outputs": [
        {
          "output_type": "stream",
          "name": "stdout",
          "text": [
            "Insira o seu nome: Brenda\n",
            "Insira a sua idade: 31\n",
            "Insira o seu hobby favorito: printura\n",
            "Seu nome é Brenda, sua idade é 31 e seu hobby favorito é printura.\n"
          ]
        }
      ]
    },
    {
      "cell_type": "markdown",
      "source": [
        "5)\tVocê está trabalhando em um sistema para calcular o salário de um funcionário baseado em algumas variáveis, como o salário base, o bônus e os descontos. O código foi feito por outra pessoa e está apresentando um erro. Execute o código, identifique o erro e corrija-o. Justifique a sua correção com um comentário # acima do que foi corrigido."
      ],
      "metadata": {
        "id": "kTs4_p47X-nX"
      }
    },
    {
      "cell_type": "code",
      "source": [
        "salario_base = 3500.00\n",
        "bonus = 500.00\n",
        "#A variável \"descontos\" estava definida com o D maiúsculo e estava sendo utilizada com o d minúsculo. Por isso não estava declarada. A correção foi realizada.\n",
        "descontos = 300.00\n",
        "\n",
        "salario_liquido = salario_base + bonus - descontos\n",
        "print(f\"O salário líquido é {salario_liquido}.\")"
      ],
      "metadata": {
        "colab": {
          "base_uri": "https://localhost:8080/"
        },
        "id": "yPQbJLfpX-xH",
        "outputId": "aafc1036-1b12-4c59-fe63-5b15497f5b7b"
      },
      "execution_count": null,
      "outputs": [
        {
          "output_type": "stream",
          "name": "stdout",
          "text": [
            "O salário líquido é 3700.0.\n"
          ]
        }
      ]
    },
    {
      "cell_type": "markdown",
      "source": [
        "6)\tSuponha que uma empresa tem um código de produto no formato PROD-XXXX, onde XXXX são dígitos de 0 a 9, e ela deseja verificar se os códigos segue o formato correto. Por exemplo, PROD-1234 é válido, mas prod-1234 e PROD1234 não são.\n",
        "\n",
        "Faça um programa que retorne se o código prod0000 é válido ou não, justificando sua resposta."
      ],
      "metadata": {
        "id": "6jv4Eb0kX-5Q"
      }
    },
    {
      "cell_type": "code",
      "source": [
        "codigo = input('Digite o código: ')\n",
        "\n",
        "if codigo[:5] == 'PROD-' and codigo[6:].isdigit():\n",
        "  print('O código é válido')\n",
        "else:\n",
        "  print('O código é inválido porque não segue o padrão PROD-XXXX')"
      ],
      "metadata": {
        "colab": {
          "base_uri": "https://localhost:8080/"
        },
        "id": "kpEWVyDBX-_G",
        "outputId": "b8698788-6f06-4ff9-dbaf-302fc3e6fae8"
      },
      "execution_count": null,
      "outputs": [
        {
          "output_type": "stream",
          "name": "stdout",
          "text": [
            "Digite o código: PROD0000\n",
            "O código é inválido porque não segue o padrão PROD-XXXX\n"
          ]
        }
      ]
    },
    {
      "cell_type": "markdown",
      "source": [
        "7)\tVocê trabalha para o Detran/SP e recebeu uma tarefa de separar as partes (letras e números) de uma determinada placa de veículo no modelo antigo. Faça um código que automatize essa separação. Use a placa ABC-1234 como exemplo."
      ],
      "metadata": {
        "id": "ILn364zqX_H3"
      }
    },
    {
      "cell_type": "code",
      "source": [
        "placa= input('Insira a placa para validação: ')\n",
        "\n",
        "def separacao ():\n",
        "  letras = placa[:3]\n",
        "  numeros = placa[4:]\n",
        "  return letras, numeros\n",
        "\n",
        "letras = separacao()[0]\n",
        "numeros = separacao()[1]\n",
        "\n",
        "print(f'As letras são: {letras} e os números são: {numeros}')"
      ],
      "metadata": {
        "id": "uDeEJlfbX_PH",
        "colab": {
          "base_uri": "https://localhost:8080/"
        },
        "outputId": "7448c71b-907f-4fba-f7fe-ac12bfccb415"
      },
      "execution_count": null,
      "outputs": [
        {
          "output_type": "stream",
          "name": "stdout",
          "text": [
            "Insira a placa para validação: ABC-1234\n",
            "As letras são: ABC e os números são: 1234\n"
          ]
        }
      ]
    },
    {
      "cell_type": "code",
      "source": [],
      "metadata": {
        "id": "wvLBXTZHiUcS"
      },
      "execution_count": null,
      "outputs": []
    }
  ]
}